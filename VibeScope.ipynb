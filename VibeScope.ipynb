{
  "cells": [
    {
      "cell_type": "markdown",
      "metadata": {
        "id": "view-in-github",
        "colab_type": "text"
      },
      "source": [
        "<a href=\"https://colab.research.google.com/github/karri-ten/VibeScope/blob/main/VibeScope.ipynb\" target=\"_parent\"><img src=\"https://colab.research.google.com/assets/colab-badge.svg\" alt=\"Open In Colab\"/></a>"
      ]
    },
    {
      "cell_type": "markdown",
      "metadata": {
        "id": "nQueYbi8PZ2A"
      },
      "source": [
        "# VibeScope _ Analysing online vibe through NLP\n",
        "\n",
        "VibeScope analyzes Twitter conversations in real time, using NLP and machine learning to extract and interpret sentiment trends. It provides insights on topics, brands, and events while leveraging automated data pipelines and interactive dashboards to enhance understanding of public opinion."
      ]
    },
    {
      "cell_type": "code",
      "execution_count": 1,
      "metadata": {
        "colab": {
          "base_uri": "https://localhost:8080/"
        },
        "collapsed": true,
        "id": "FmKC9JWoWOdE",
        "outputId": "b46d6873-d747-483f-aaa7-d46f34c1c1b5"
      },
      "outputs": [
        {
          "output_type": "stream",
          "name": "stdout",
          "text": [
            "Requirement already satisfied: tweepy in /usr/local/lib/python3.11/dist-packages (4.15.0)\n",
            "Requirement already satisfied: matplotlib in /usr/local/lib/python3.11/dist-packages (3.10.0)\n",
            "Requirement already satisfied: pandas in /usr/local/lib/python3.11/dist-packages (2.2.2)\n",
            "Requirement already satisfied: numpy in /usr/local/lib/python3.11/dist-packages (2.0.2)\n",
            "Requirement already satisfied: seaborn in /usr/local/lib/python3.11/dist-packages (0.13.2)\n",
            "Requirement already satisfied: plotly in /usr/local/lib/python3.11/dist-packages (5.24.1)\n",
            "Requirement already satisfied: oauthlib<4,>=3.2.0 in /usr/local/lib/python3.11/dist-packages (from tweepy) (3.2.2)\n",
            "Requirement already satisfied: requests<3,>=2.27.0 in /usr/local/lib/python3.11/dist-packages (from tweepy) (2.32.3)\n",
            "Requirement already satisfied: requests-oauthlib<3,>=1.2.0 in /usr/local/lib/python3.11/dist-packages (from tweepy) (2.0.0)\n",
            "Requirement already satisfied: contourpy>=1.0.1 in /usr/local/lib/python3.11/dist-packages (from matplotlib) (1.3.2)\n",
            "Requirement already satisfied: cycler>=0.10 in /usr/local/lib/python3.11/dist-packages (from matplotlib) (0.12.1)\n",
            "Requirement already satisfied: fonttools>=4.22.0 in /usr/local/lib/python3.11/dist-packages (from matplotlib) (4.58.1)\n",
            "Requirement already satisfied: kiwisolver>=1.3.1 in /usr/local/lib/python3.11/dist-packages (from matplotlib) (1.4.8)\n",
            "Requirement already satisfied: packaging>=20.0 in /usr/local/lib/python3.11/dist-packages (from matplotlib) (24.2)\n",
            "Requirement already satisfied: pillow>=8 in /usr/local/lib/python3.11/dist-packages (from matplotlib) (11.2.1)\n",
            "Requirement already satisfied: pyparsing>=2.3.1 in /usr/local/lib/python3.11/dist-packages (from matplotlib) (3.2.3)\n",
            "Requirement already satisfied: python-dateutil>=2.7 in /usr/local/lib/python3.11/dist-packages (from matplotlib) (2.9.0.post0)\n",
            "Requirement already satisfied: pytz>=2020.1 in /usr/local/lib/python3.11/dist-packages (from pandas) (2025.2)\n",
            "Requirement already satisfied: tzdata>=2022.7 in /usr/local/lib/python3.11/dist-packages (from pandas) (2025.2)\n",
            "Requirement already satisfied: tenacity>=6.2.0 in /usr/local/lib/python3.11/dist-packages (from plotly) (9.1.2)\n",
            "Requirement already satisfied: six>=1.5 in /usr/local/lib/python3.11/dist-packages (from python-dateutil>=2.7->matplotlib) (1.17.0)\n",
            "Requirement already satisfied: charset-normalizer<4,>=2 in /usr/local/lib/python3.11/dist-packages (from requests<3,>=2.27.0->tweepy) (3.4.2)\n",
            "Requirement already satisfied: idna<4,>=2.5 in /usr/local/lib/python3.11/dist-packages (from requests<3,>=2.27.0->tweepy) (3.10)\n",
            "Requirement already satisfied: urllib3<3,>=1.21.1 in /usr/local/lib/python3.11/dist-packages (from requests<3,>=2.27.0->tweepy) (2.4.0)\n",
            "Requirement already satisfied: certifi>=2017.4.17 in /usr/local/lib/python3.11/dist-packages (from requests<3,>=2.27.0->tweepy) (2025.4.26)\n"
          ]
        }
      ],
      "source": [
        "# Install Tweepy (v4.10+ for API v2 Support)\n",
        "!pip install tweepy matplotlib pandas numpy seaborn plotly"
      ]
    },
    {
      "cell_type": "markdown",
      "source": [
        "# Scrapping tweet from Twitter (Real-Time)"
      ],
      "metadata": {
        "id": "7b6VBLssr8uc"
      }
    },
    {
      "cell_type": "code",
      "execution_count": null,
      "metadata": {
        "id": "-BjkLF-ZYvMt"
      },
      "outputs": [],
      "source": [
        "# Authenticate and Initialize Client\n",
        "import tweepy\n",
        "import os\n",
        "import numpy as np\n",
        "import matplotlib.pyplot as plt\n",
        "import pandas as pd\n",
        "import seaborn as sns\n",
        "import plotly.express as px\n",
        "import ipywidgets as widgets\n",
        "from IPython.display import display\n",
        "from google.colab import userdata\n",
        "\n"
      ]
    },
    {
      "cell_type": "code",
      "source": [
        "# Retrieve all necessary credentials from Google Colab secrets\n",
        "bearer_token = userdata.get(\"BEARER_TOKEN\")\n",
        "consumer_key = userdata.get(\"API_key\")\n",
        "consumer_secret = userdata.get(\"API_key_secret\")\n",
        "access_token = userdata.get(\"Access_Token\")\n",
        "access_token_secret = userdata.get(\"Access_Token_Secret\")\n",
        "\n",
        "if any(token is None for token in [bearer_token, consumer_key, consumer_secret, access_token, access_token_secret]):\n",
        "    raise ValueError(\"One or more Twitter API secrets are missing.\")\n",
        "\n",
        "# Initialize tweepy client\n",
        "client = tweepy.Client(\n",
        "    bearer_token=bearer_token,\n",
        "    consumer_key=consumer_key,\n",
        "    consumer_secret=consumer_secret,\n",
        "    access_token=access_token,\n",
        "    access_token_secret=access_token_secret,\n",
        "    wait_on_rate_limit=True\n",
        ")"
      ],
      "metadata": {
        "id": "SOzRytDtuEYE"
      },
      "execution_count": null,
      "outputs": []
    },
    {
      "cell_type": "code",
      "execution_count": null,
      "metadata": {
        "id": "dPhz3Hkktzwk"
      },
      "outputs": [],
      "source": [
        "# fetching of tweets\n",
        "def fetch_tweets(query, num_tweets=100, client=client):\n",
        "    tweets_data = []\n",
        "    paginator = tweepy.Paginator(\n",
        "        client.search_recent_tweets,\n",
        "        query=query,\n",
        "        max_results=100,\n",
        "        tweet_fields=[\"created_at\", \"public_metrics\", \"author_id\"],\n",
        "        user_fields=[\"username\"],\n",
        "        expansions=[\"author_id\"],\n",
        "        limit=max(1, (num_tweets // 100))\n",
        "    )\n",
        "    for tweet in paginator.flatten(limit=num_tweets):\n",
        "        tweets_data.append({\n",
        "            \"text\": tweet.text,\n",
        "            \"created_at\": tweet.created_at,\n",
        "            \"likes\": tweet.public_metrics[\"like_count\"],\n",
        "            \"retweets\": tweet.public_metrics[\"retweet_count\"],\n",
        "            \"author_id\": tweet.author_id\n",
        "        })\n",
        "    return pd.DataFrame(tweets_data)"
      ]
    },
    {
      "cell_type": "code",
      "execution_count": null,
      "metadata": {
        "id": "8TRjtUEc9NfR"
      },
      "outputs": [],
      "source": [
        "#  Interactive Widgets for Query & Tweet Count\n",
        "keyword_widget = widgets.Text(\n",
        "    value='ChatGPT',\n",
        "    placeholder='Type a keyword or hashtag',\n",
        "    description='Keyword:'\n",
        ")\n",
        "tweet_count_widget = widgets.IntSlider(\n",
        "    value=100,\n",
        "    min=10,\n",
        "    max=1000,\n",
        "    step=10,\n",
        "    description='Num Tweets:'\n",
        ")\n",
        "display(keyword_widget, tweet_count_widget)"
      ]
    },
    {
      "cell_type": "code",
      "execution_count": null,
      "metadata": {
        "id": "om2kgXl09Voi"
      },
      "outputs": [],
      "source": [
        "#Fetch and Display Tweets Using Function and Widgets\n",
        "query = f\"{keyword_widget.value} lang:en -is:retweet\"\n",
        "num_tweets = tweet_count_widget.value\n",
        "\n",
        "df = fetch_tweets(query, num_tweets)\n",
        "print(f\"Fetched {len(df)} tweets.\")\n",
        "df.head()"
      ]
    },
    {
      "cell_type": "code",
      "execution_count": null,
      "metadata": {
        "id": "XJXAbgpg99HO"
      },
      "outputs": [],
      "source": [
        "# Save the results to CSV if needed\n",
        "df.to_csv(f\"tweets_{keyword_widget.value}.csv\", index=False)"
      ]
    },
    {
      "cell_type": "markdown",
      "source": [
        "# Using dowloaded twitter dataset (US Election 2020 Tweets) from Kaggle"
      ],
      "metadata": {
        "id": "Inimf-1fsurd"
      }
    },
    {
      "cell_type": "markdown",
      "source": [
        "##Setting up & Data Pipeline (Kaggle + Colab)"
      ],
      "metadata": {
        "id": "37WvSzck3M40"
      }
    },
    {
      "source": [
        "# Install the kaggle package\n",
        "!pip install kaggle\n",
        "import os\n",
        "\n",
        "# Upload your kaggle.json (from Kaggle API) using Colab left sidebar or:\n",
        "from google.colab import files\n",
        "files.upload()\n",
        "# Ensure kaggle.json is uploaded before running this cell\n",
        "\n",
        "\n",
        "# Configure Kaggle CLI\n",
        "!mkdir -p ~/.kaggle\n",
        "!cp kaggle.json ~/.kaggle/\n",
        "!chmod 600 ~/.kaggle/kaggle.json\n",
        "\n",
        "# Download Election 2020 Tweets dataset using Kaggle CLI\n",
        "dataset_slug = \"manchunhui/us-election-2020-tweets\"\n",
        "!kaggle datasets download {dataset_slug}\n",
        "\n",
        "# Unzip the downloaded file (it will be a zip file with the dataset slug name)\n",
        "unzip_command = f\"unzip {dataset_slug.split('/')[-1]}.zip\"\n",
        "!{unzip_command}\n",
        "\n",
        "\n",
        "path = \".\" # Or the specific subdirectory if unzip created one\n",
        "\n",
        "print(f\"Files should now be in the current directory: {os.getcwd()}\")\n",
        "print(\"Listing contents of current directory:\")\n",
        "!ls"
      ],
      "cell_type": "code",
      "metadata": {
        "colab": {
          "base_uri": "https://localhost:8080/",
          "height": 541
        },
        "collapsed": true,
        "id": "hbHe1m7eEzWX",
        "outputId": "3baf6fa3-fa25-4e03-9712-1aa3a8fe6241"
      },
      "execution_count": 3,
      "outputs": [
        {
          "output_type": "stream",
          "name": "stdout",
          "text": [
            "Requirement already satisfied: kaggle in /usr/local/lib/python3.11/dist-packages (1.7.4.5)\n",
            "Requirement already satisfied: bleach in /usr/local/lib/python3.11/dist-packages (from kaggle) (6.2.0)\n",
            "Requirement already satisfied: certifi>=14.05.14 in /usr/local/lib/python3.11/dist-packages (from kaggle) (2025.4.26)\n",
            "Requirement already satisfied: charset-normalizer in /usr/local/lib/python3.11/dist-packages (from kaggle) (3.4.2)\n",
            "Requirement already satisfied: idna in /usr/local/lib/python3.11/dist-packages (from kaggle) (3.10)\n",
            "Requirement already satisfied: protobuf in /usr/local/lib/python3.11/dist-packages (from kaggle) (5.29.5)\n",
            "Requirement already satisfied: python-dateutil>=2.5.3 in /usr/local/lib/python3.11/dist-packages (from kaggle) (2.9.0.post0)\n",
            "Requirement already satisfied: python-slugify in /usr/local/lib/python3.11/dist-packages (from kaggle) (8.0.4)\n",
            "Requirement already satisfied: requests in /usr/local/lib/python3.11/dist-packages (from kaggle) (2.32.3)\n",
            "Requirement already satisfied: setuptools>=21.0.0 in /usr/local/lib/python3.11/dist-packages (from kaggle) (75.2.0)\n",
            "Requirement already satisfied: six>=1.10 in /usr/local/lib/python3.11/dist-packages (from kaggle) (1.17.0)\n",
            "Requirement already satisfied: text-unidecode in /usr/local/lib/python3.11/dist-packages (from kaggle) (1.3)\n",
            "Requirement already satisfied: tqdm in /usr/local/lib/python3.11/dist-packages (from kaggle) (4.67.1)\n",
            "Requirement already satisfied: urllib3>=1.15.1 in /usr/local/lib/python3.11/dist-packages (from kaggle) (2.4.0)\n",
            "Requirement already satisfied: webencodings in /usr/local/lib/python3.11/dist-packages (from kaggle) (0.5.1)\n"
          ]
        },
        {
          "output_type": "display_data",
          "data": {
            "text/plain": [
              "<IPython.core.display.HTML object>"
            ],
            "text/html": [
              "\n",
              "     <input type=\"file\" id=\"files-6e9440fb-6c78-4b2e-8d5e-cf3f59e786b2\" name=\"files[]\" multiple disabled\n",
              "        style=\"border:none\" />\n",
              "     <output id=\"result-6e9440fb-6c78-4b2e-8d5e-cf3f59e786b2\">\n",
              "      Upload widget is only available when the cell has been executed in the\n",
              "      current browser session. Please rerun this cell to enable.\n",
              "      </output>\n",
              "      <script>// Copyright 2017 Google LLC\n",
              "//\n",
              "// Licensed under the Apache License, Version 2.0 (the \"License\");\n",
              "// you may not use this file except in compliance with the License.\n",
              "// You may obtain a copy of the License at\n",
              "//\n",
              "//      http://www.apache.org/licenses/LICENSE-2.0\n",
              "//\n",
              "// Unless required by applicable law or agreed to in writing, software\n",
              "// distributed under the License is distributed on an \"AS IS\" BASIS,\n",
              "// WITHOUT WARRANTIES OR CONDITIONS OF ANY KIND, either express or implied.\n",
              "// See the License for the specific language governing permissions and\n",
              "// limitations under the License.\n",
              "\n",
              "/**\n",
              " * @fileoverview Helpers for google.colab Python module.\n",
              " */\n",
              "(function(scope) {\n",
              "function span(text, styleAttributes = {}) {\n",
              "  const element = document.createElement('span');\n",
              "  element.textContent = text;\n",
              "  for (const key of Object.keys(styleAttributes)) {\n",
              "    element.style[key] = styleAttributes[key];\n",
              "  }\n",
              "  return element;\n",
              "}\n",
              "\n",
              "// Max number of bytes which will be uploaded at a time.\n",
              "const MAX_PAYLOAD_SIZE = 100 * 1024;\n",
              "\n",
              "function _uploadFiles(inputId, outputId) {\n",
              "  const steps = uploadFilesStep(inputId, outputId);\n",
              "  const outputElement = document.getElementById(outputId);\n",
              "  // Cache steps on the outputElement to make it available for the next call\n",
              "  // to uploadFilesContinue from Python.\n",
              "  outputElement.steps = steps;\n",
              "\n",
              "  return _uploadFilesContinue(outputId);\n",
              "}\n",
              "\n",
              "// This is roughly an async generator (not supported in the browser yet),\n",
              "// where there are multiple asynchronous steps and the Python side is going\n",
              "// to poll for completion of each step.\n",
              "// This uses a Promise to block the python side on completion of each step,\n",
              "// then passes the result of the previous step as the input to the next step.\n",
              "function _uploadFilesContinue(outputId) {\n",
              "  const outputElement = document.getElementById(outputId);\n",
              "  const steps = outputElement.steps;\n",
              "\n",
              "  const next = steps.next(outputElement.lastPromiseValue);\n",
              "  return Promise.resolve(next.value.promise).then((value) => {\n",
              "    // Cache the last promise value to make it available to the next\n",
              "    // step of the generator.\n",
              "    outputElement.lastPromiseValue = value;\n",
              "    return next.value.response;\n",
              "  });\n",
              "}\n",
              "\n",
              "/**\n",
              " * Generator function which is called between each async step of the upload\n",
              " * process.\n",
              " * @param {string} inputId Element ID of the input file picker element.\n",
              " * @param {string} outputId Element ID of the output display.\n",
              " * @return {!Iterable<!Object>} Iterable of next steps.\n",
              " */\n",
              "function* uploadFilesStep(inputId, outputId) {\n",
              "  const inputElement = document.getElementById(inputId);\n",
              "  inputElement.disabled = false;\n",
              "\n",
              "  const outputElement = document.getElementById(outputId);\n",
              "  outputElement.innerHTML = '';\n",
              "\n",
              "  const pickedPromise = new Promise((resolve) => {\n",
              "    inputElement.addEventListener('change', (e) => {\n",
              "      resolve(e.target.files);\n",
              "    });\n",
              "  });\n",
              "\n",
              "  const cancel = document.createElement('button');\n",
              "  inputElement.parentElement.appendChild(cancel);\n",
              "  cancel.textContent = 'Cancel upload';\n",
              "  const cancelPromise = new Promise((resolve) => {\n",
              "    cancel.onclick = () => {\n",
              "      resolve(null);\n",
              "    };\n",
              "  });\n",
              "\n",
              "  // Wait for the user to pick the files.\n",
              "  const files = yield {\n",
              "    promise: Promise.race([pickedPromise, cancelPromise]),\n",
              "    response: {\n",
              "      action: 'starting',\n",
              "    }\n",
              "  };\n",
              "\n",
              "  cancel.remove();\n",
              "\n",
              "  // Disable the input element since further picks are not allowed.\n",
              "  inputElement.disabled = true;\n",
              "\n",
              "  if (!files) {\n",
              "    return {\n",
              "      response: {\n",
              "        action: 'complete',\n",
              "      }\n",
              "    };\n",
              "  }\n",
              "\n",
              "  for (const file of files) {\n",
              "    const li = document.createElement('li');\n",
              "    li.append(span(file.name, {fontWeight: 'bold'}));\n",
              "    li.append(span(\n",
              "        `(${file.type || 'n/a'}) - ${file.size} bytes, ` +\n",
              "        `last modified: ${\n",
              "            file.lastModifiedDate ? file.lastModifiedDate.toLocaleDateString() :\n",
              "                                    'n/a'} - `));\n",
              "    const percent = span('0% done');\n",
              "    li.appendChild(percent);\n",
              "\n",
              "    outputElement.appendChild(li);\n",
              "\n",
              "    const fileDataPromise = new Promise((resolve) => {\n",
              "      const reader = new FileReader();\n",
              "      reader.onload = (e) => {\n",
              "        resolve(e.target.result);\n",
              "      };\n",
              "      reader.readAsArrayBuffer(file);\n",
              "    });\n",
              "    // Wait for the data to be ready.\n",
              "    let fileData = yield {\n",
              "      promise: fileDataPromise,\n",
              "      response: {\n",
              "        action: 'continue',\n",
              "      }\n",
              "    };\n",
              "\n",
              "    // Use a chunked sending to avoid message size limits. See b/62115660.\n",
              "    let position = 0;\n",
              "    do {\n",
              "      const length = Math.min(fileData.byteLength - position, MAX_PAYLOAD_SIZE);\n",
              "      const chunk = new Uint8Array(fileData, position, length);\n",
              "      position += length;\n",
              "\n",
              "      const base64 = btoa(String.fromCharCode.apply(null, chunk));\n",
              "      yield {\n",
              "        response: {\n",
              "          action: 'append',\n",
              "          file: file.name,\n",
              "          data: base64,\n",
              "        },\n",
              "      };\n",
              "\n",
              "      let percentDone = fileData.byteLength === 0 ?\n",
              "          100 :\n",
              "          Math.round((position / fileData.byteLength) * 100);\n",
              "      percent.textContent = `${percentDone}% done`;\n",
              "\n",
              "    } while (position < fileData.byteLength);\n",
              "  }\n",
              "\n",
              "  // All done.\n",
              "  yield {\n",
              "    response: {\n",
              "      action: 'complete',\n",
              "    }\n",
              "  };\n",
              "}\n",
              "\n",
              "scope.google = scope.google || {};\n",
              "scope.google.colab = scope.google.colab || {};\n",
              "scope.google.colab._files = {\n",
              "  _uploadFiles,\n",
              "  _uploadFilesContinue,\n",
              "};\n",
              "})(self);\n",
              "</script> "
            ]
          },
          "metadata": {}
        },
        {
          "output_type": "stream",
          "name": "stdout",
          "text": [
            "Saving kaggle.json to kaggle (1).json\n",
            "Dataset URL: https://www.kaggle.com/datasets/manchunhui/us-election-2020-tweets\n",
            "License(s): CC0-1.0\n",
            "us-election-2020-tweets.zip: Skipping, found more recently modified local copy (use --force to force download)\n",
            "Archive:  us-election-2020-tweets.zip\n",
            "replace hashtag_donaldtrump.csv? [y]es, [n]o, [A]ll, [N]one, [r]ename: y\n",
            "  inflating: hashtag_donaldtrump.csv  \n",
            "replace hashtag_joebiden.csv? [y]es, [n]o, [A]ll, [N]one, [r]ename: y\n",
            "  inflating: hashtag_joebiden.csv    \n",
            "Files should now be in the current directory: /content\n",
            "Listing contents of current directory:\n",
            " hashtag_donaldtrump.csv  'kaggle (1).json'   sample_data\n",
            " hashtag_joebiden.csv\t   kaggle.json\t      us-election-2020-tweets.zip\n"
          ]
        }
      ]
    },
    {
      "cell_type": "markdown",
      "source": [
        "Loading the Data for “Real-time” Analysis"
      ],
      "metadata": {
        "id": "jl9Hj-TSJjkX"
      }
    },
    {
      "source": [
        "import pandas as pd\n",
        "import os\n",
        "\n",
        "biden_file_path = '/content/hashtag_joebiden.csv'\n",
        "trump_file_path = '/content/hashtag_donaldtrump.csv'\n",
        "\n",
        "# Check if files exist before trying to read\n",
        "if not os.path.exists(biden_file_path):\n",
        "    raise FileNotFoundError(f\"Expected file not found: {biden_file_path}\")\n",
        "if not os.path.exists(trump_file_path):\n",
        "    raise FileNotFoundError(f\"Expected file not found: {trump_file_path}\")\n",
        "\n",
        "# Load tweets for both major candidates using the filenames\n",
        "# Try specifying the 'python' engine and handling bad lines\n",
        "try:\n",
        "    biden = pd.read_csv(biden_file_path, engine='python', on_bad_lines='skip')\n",
        "    print(f\"Successfully loaded {biden_file_path}\")\n",
        "except Exception as e:\n",
        "    print(f\"Error loading {biden_file_path}: {e}\")\n",
        "    # Potentially try different parsing options or investigate the file\n",
        "    raise\n",
        "\n",
        "try:\n",
        "    trump = pd.read_csv(trump_file_path, engine='python', on_bad_lines='skip')\n",
        "    print(f\"Successfully loaded {trump_file_path}\")\n",
        "except Exception as e:\n",
        "    print(f\"Error loading {trump_file_path}: {e}\")\n",
        "    # Potentially try different parsing options or investigate the file\n",
        "    raise\n",
        "\n",
        "\n",
        "# For real-time simulation, sample in chunks\n",
        "chunk_size = 500  # You can adjust this for \"real-time\" batch simulation\n",
        "\n",
        "# Ensure that sampling does not exceed the number of rows actually loaded\n",
        "biden_sample_size = min(chunk_size, len(biden))\n",
        "trump_sample_size = min(chunk_size, len(trump))\n",
        "\n",
        "if biden_sample_size > 0:\n",
        "    biden_sample = biden.sample(biden_sample_size, random_state=1)\n",
        "else:\n",
        "    biden_sample = pd.DataFrame() # Handle case where biden DataFrame is empty\n",
        "\n",
        "if trump_sample_size > 0:\n",
        "    trump_sample = trump.sample(trump_sample_size, random_state=1)\n",
        "else:\n",
        "    trump_sample = pd.DataFrame() # Handle case where trump DataFrame is empty\n",
        "\n",
        "\n",
        "# Combine for joint analysis\n",
        "# Check if samples are not empty before concatenating\n",
        "if not biden_sample.empty or not trump_sample.empty:\n",
        "    tweets = pd.concat([biden_sample, trump_sample], ignore_index=True)\n",
        "    if not tweets.empty:\n",
        "        tweets = tweets.sample(frac=1, random_state=2).reset_index(drop=True)  # shuffle\n",
        "    else:\n",
        "        print(\"Concatenated DataFrame is empty.\")\n",
        "else:\n",
        "    tweets = pd.DataFrame() # Create empty DataFrame if both samples are empty\n",
        "    print(\"Both sample DataFrames are empty.\")\n",
        "\n",
        "# You might want to add a check here to see if the 'tweets' DataFrame is empty\n",
        "# before proceeding with further analysis.\n",
        "if tweets.empty:\n",
        "    print(\"No tweets were loaded or sampled successfully.\")"
      ],
      "cell_type": "code",
      "metadata": {
        "colab": {
          "base_uri": "https://localhost:8080/"
        },
        "id": "wkUkm0ccJAnk",
        "outputId": "e827486d-1e2f-4e50-ded9-4417cb0bb05f"
      },
      "execution_count": 4,
      "outputs": [
        {
          "output_type": "stream",
          "name": "stdout",
          "text": [
            "Successfully loaded /content/hashtag_joebiden.csv\n",
            "Successfully loaded /content/hashtag_donaldtrump.csv\n"
          ]
        }
      ]
    },
    {
      "cell_type": "code",
      "source": [],
      "metadata": {
        "id": "81qK96BrRW5e"
      },
      "execution_count": null,
      "outputs": []
    }
  ],
  "metadata": {
    "colab": {
      "provenance": [],
      "collapsed_sections": [
        "7b6VBLssr8uc"
      ],
      "gpuType": "T4",
      "authorship_tag": "ABX9TyPG+zT8JDPZO9oiNJ8thjx/",
      "include_colab_link": true
    },
    "kernelspec": {
      "display_name": "Python 3",
      "name": "python3"
    },
    "language_info": {
      "name": "python"
    },
    "accelerator": "GPU"
  },
  "nbformat": 4,
  "nbformat_minor": 0
}