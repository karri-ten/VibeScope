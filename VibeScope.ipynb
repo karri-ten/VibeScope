{
  "nbformat": 4,
  "nbformat_minor": 0,
  "metadata": {
    "colab": {
      "provenance": [],
      "authorship_tag": "ABX9TyPsBUaDTcGsycYlUgg69F0h",
      "include_colab_link": true
    },
    "kernelspec": {
      "name": "python3",
      "display_name": "Python 3"
    },
    "language_info": {
      "name": "python"
    }
  },
  "cells": [
    {
      "cell_type": "markdown",
      "metadata": {
        "id": "view-in-github",
        "colab_type": "text"
      },
      "source": [
        "<a href=\"https://colab.research.google.com/github/karri-ten/VibeScope/blob/main/VibeScope.ipynb\" target=\"_parent\"><img src=\"https://colab.research.google.com/assets/colab-badge.svg\" alt=\"Open In Colab\"/></a>"
      ]
    },
    {
      "cell_type": "markdown",
      "source": [
        "# VibeScope _ Analysing online vibe through NLP\n",
        "\n",
        "VibeScope analyzes Twitter conversations in real time, using NLP and machine learning to extract and interpret sentiment trends. It provides insights on topics, brands, and events while leveraging automated data pipelines and interactive dashboards to enhance understanding of public opinion."
      ],
      "metadata": {
        "id": "nQueYbi8PZ2A"
      }
    },
    {
      "cell_type": "code",
      "source": [
        "# Install Tweepy (v4.10+ for API v2 Support)\n",
        "!pip install tweepy matplotlib pandas numpy seaborn plotly"
      ],
      "metadata": {
        "colab": {
          "base_uri": "https://localhost:8080/"
        },
        "id": "FmKC9JWoWOdE",
        "outputId": "b8dceec2-d090-40ae-9bfd-f506a8879b4e"
      },
      "execution_count": null,
      "outputs": [
        {
          "output_type": "stream",
          "name": "stdout",
          "text": [
            "Requirement already satisfied: tweepy in /usr/local/lib/python3.11/dist-packages (4.15.0)\n",
            "Requirement already satisfied: matplotlib in /usr/local/lib/python3.11/dist-packages (3.10.0)\n",
            "Requirement already satisfied: pandas in /usr/local/lib/python3.11/dist-packages (2.2.2)\n",
            "Requirement already satisfied: numpy in /usr/local/lib/python3.11/dist-packages (2.0.2)\n",
            "Requirement already satisfied: seaborn in /usr/local/lib/python3.11/dist-packages (0.13.2)\n",
            "Requirement already satisfied: plotly in /usr/local/lib/python3.11/dist-packages (5.24.1)\n",
            "Requirement already satisfied: oauthlib<4,>=3.2.0 in /usr/local/lib/python3.11/dist-packages (from tweepy) (3.2.2)\n",
            "Requirement already satisfied: requests<3,>=2.27.0 in /usr/local/lib/python3.11/dist-packages (from tweepy) (2.32.3)\n",
            "Requirement already satisfied: requests-oauthlib<3,>=1.2.0 in /usr/local/lib/python3.11/dist-packages (from tweepy) (2.0.0)\n",
            "Requirement already satisfied: contourpy>=1.0.1 in /usr/local/lib/python3.11/dist-packages (from matplotlib) (1.3.2)\n",
            "Requirement already satisfied: cycler>=0.10 in /usr/local/lib/python3.11/dist-packages (from matplotlib) (0.12.1)\n",
            "Requirement already satisfied: fonttools>=4.22.0 in /usr/local/lib/python3.11/dist-packages (from matplotlib) (4.58.0)\n",
            "Requirement already satisfied: kiwisolver>=1.3.1 in /usr/local/lib/python3.11/dist-packages (from matplotlib) (1.4.8)\n",
            "Requirement already satisfied: packaging>=20.0 in /usr/local/lib/python3.11/dist-packages (from matplotlib) (24.2)\n",
            "Requirement already satisfied: pillow>=8 in /usr/local/lib/python3.11/dist-packages (from matplotlib) (11.2.1)\n",
            "Requirement already satisfied: pyparsing>=2.3.1 in /usr/local/lib/python3.11/dist-packages (from matplotlib) (3.2.3)\n",
            "Requirement already satisfied: python-dateutil>=2.7 in /usr/local/lib/python3.11/dist-packages (from matplotlib) (2.9.0.post0)\n",
            "Requirement already satisfied: pytz>=2020.1 in /usr/local/lib/python3.11/dist-packages (from pandas) (2025.2)\n",
            "Requirement already satisfied: tzdata>=2022.7 in /usr/local/lib/python3.11/dist-packages (from pandas) (2025.2)\n",
            "Requirement already satisfied: tenacity>=6.2.0 in /usr/local/lib/python3.11/dist-packages (from plotly) (9.1.2)\n",
            "Requirement already satisfied: six>=1.5 in /usr/local/lib/python3.11/dist-packages (from python-dateutil>=2.7->matplotlib) (1.17.0)\n",
            "Requirement already satisfied: charset-normalizer<4,>=2 in /usr/local/lib/python3.11/dist-packages (from requests<3,>=2.27.0->tweepy) (3.4.2)\n",
            "Requirement already satisfied: idna<4,>=2.5 in /usr/local/lib/python3.11/dist-packages (from requests<3,>=2.27.0->tweepy) (3.10)\n",
            "Requirement already satisfied: urllib3<3,>=1.21.1 in /usr/local/lib/python3.11/dist-packages (from requests<3,>=2.27.0->tweepy) (2.4.0)\n",
            "Requirement already satisfied: certifi>=2017.4.17 in /usr/local/lib/python3.11/dist-packages (from requests<3,>=2.27.0->tweepy) (2025.4.26)\n"
          ]
        }
      ]
    },
    {
      "cell_type": "code",
      "source": [
        "# Authenticate and Initialize Client\n",
        "import tweepy\n",
        "import os\n",
        "import numpy as np\n",
        "import matplotlib.pyplot as plt\n",
        "import pandas as pd\n",
        "import seaborn as sns\n",
        "import plotly.express as px\n",
        "from google.colab import userdata\n",
        "\n",
        "#from dotenv import load_dotenv\n",
        "#load_dotenv()  # Load .env file\n",
        "\n",
        "# Retrieve the BEARER_TOKEN from Google Colab secrets\n",
        "bearer_token = userdata.get(\"BEARER_TOKEN\")\n",
        "\n",
        "# Check if the token was retrieved successfully\n",
        "if bearer_token is None:\n",
        "    raise ValueError(\"Google Colab secret 'BEARER_TOKEN' not found. Please ensure you have added it to Colab secrets.\")\n",
        "\n",
        "client = tweepy.Client(\n",
        "    bearer_token=bearer_token, # Use the token retrieved from Colab secrets\n",
        "    wait_on_rate_limit=True  # Pause if rate limit is hit\n",
        ")"
      ],
      "metadata": {
        "id": "-BjkLF-ZYvMt"
      },
      "execution_count": 16,
      "outputs": []
    },
    {
      "cell_type": "markdown",
      "source": [
        "# check if all the credential are retrieve sucessfully"
      ],
      "metadata": {
        "id": "qufm0UE9u-yC"
      }
    },
    {
      "cell_type": "code",
      "source": [
        "from google.colab import userdata\n",
        "import tweepy\n",
        "import os\n",
        "\n",
        "# Retrieve all necessary credentials from Google Colab secrets\n",
        "bearer_token = userdata.get(\"BEARER_TOKEN\")\n",
        "consumer_key = userdata.get(\"API_key\")\n",
        "consumer_secret = userdata.get(\"API_key_secret\")\n",
        "access_token = userdata.get(\"Access_Token\")\n",
        "access_token_secret = userdata.get(\"Access_Token_Secret\")\n",
        "\n",
        "# Check if all credentials were retrieved successfully\n",
        "if any(token is None for token in [bearer_token, consumer_key, consumer_secret, access_token, access_token_secret]):\n",
        "    raise ValueError(\"One or more Google Colab secrets (BEARER_TOKEN, CONSUMER_KEY, CONSUMER_SECRET, ACCESS_TOKEN, ACCESS_TOKEN_SECRET) not found. Please ensure you have added them to Colab secrets.\")\n",
        "\n",
        "# Initialize client with both Bearer Token and OAuth 1.0a credentials\n",
        "client = tweepy.Client(\n",
        "    bearer_token=bearer_token,\n",
        "    consumer_key=consumer_key,\n",
        "    consumer_secret=consumer_secret,\n",
        "    access_token=access_token,\n",
        "    access_token_secret=access_token_secret,\n",
        "    wait_on_rate_limit=True  # Pause if rate limit is hit\n",
        ")\n",
        "\n",
        "# Now you can test both types of authentication\n",
        "test_bearer = client.get_me()  # Uses Bearer Token by default\n",
        "print(\"Test with Bearer Token:\")\n",
        "print(test_bearer)\n",
        "\n",
        "test_user_auth = client.get_me(user_auth=True) # Uses OAuth 1.0a\n",
        "print(\"\\nTest with User Authentication (OAuth 1.0a):\")\n",
        "print(test_user_auth)"
      ],
      "metadata": {
        "id": "zNYhlqElu9jK",
        "colab": {
          "base_uri": "https://localhost:8080/"
        },
        "outputId": "b6b3a209-4d7c-4ffe-acbb-6bbfd4b29d9a"
      },
      "execution_count": 17,
      "outputs": [
        {
          "output_type": "stream",
          "name": "stdout",
          "text": [
            "Test with Bearer Token:\n",
            "Response(data=<User id=761580484128305154 name=Teniola Kareemat username=kareeprecious>, includes={}, errors=[], meta={})\n",
            "\n",
            "Test with User Authentication (OAuth 1.0a):\n",
            "Response(data=<User id=761580484128305154 name=Teniola Kareemat username=kareeprecious>, includes={}, errors=[], meta={})\n"
          ]
        }
      ]
    },
    {
      "cell_type": "code",
      "source": [
        "query = \"Bitcoin -is:retweet lang:en\"  # English, no retweets\n",
        "tweets = []\n",
        "\n",
        "# Use Paginator to handle rate limits\n",
        "for tweet in tweepy.Paginator(\n",
        "    client.search_recent_tweets,\n",
        "    query=query,\n",
        "    max_results=10,  # Max per request (free tier limit)\n",
        "    limit=1  # 1 requests = 100 tweets\n",
        ").flatten():  # Flatten paginated responses\n",
        "    tweets.append(tweet.text)\n",
        "\n",
        "print(f\"Fetched {len(tweets)} tweets.\")"
      ],
      "metadata": {
        "id": "asbB9kMVnf-Q"
      },
      "execution_count": null,
      "outputs": []
    },
    {
      "source": [
        "# Fetching of Tweets (Scrape 1000 Tweets About \"ChatGPT\" (Exclude Retweets))\n",
        "\n",
        "query = \"ChatGPT lang:en -is:retweet\"\n",
        "tweets = []\n",
        "\n",
        "# Fetch tweets with metadata (e.g., likes, time)\n",
        "tweets_data = []\n",
        "for tweet in tweepy.Paginator(\n",
        "    client.search_recent_tweets,\n",
        "    query=query,\n",
        "    max_results=100,\n",
        "    tweet_fields=[\"created_at\", \"public_metrics\", \"author_id\"],\n",
        "    user_fields=[\"username\"],\n",
        "    expansions=[\"author_id\"],\n",
        "    limit=5\n",
        ").flatten():\n",
        "    tweets_data.append({\n",
        "        \"text\": tweet.text,\n",
        "        \"created_at\": tweet.created_at,\n",
        "        \"likes\": tweet.public_metrics[\"like_count\"],\n",
        "        \"retweets\": tweet.public_metrics[\"retweet_count\"],\n",
        "        \"author_id\": tweet.author_id\n",
        "    })\n",
        "\n",
        "df = pd.DataFrame(tweets_data)\n",
        "df.to_csv(\"tweets_chatgpt.csv\", index=False)"
      ],
      "cell_type": "code",
      "metadata": {
        "colab": {
          "base_uri": "https://localhost:8080/",
          "height": 374
        },
        "collapsed": true,
        "id": "bouJd27HdjDZ",
        "outputId": "c9948e50-c465-4606-e475-633dae5baa99"
      },
      "execution_count": null,
      "outputs": [
        {
          "output_type": "stream",
          "name": "stderr",
          "text": [
            "WARNING:tweepy.client:Rate limit exceeded. Sleeping for 849 seconds.\n"
          ]
        },
        {
          "output_type": "error",
          "ename": "KeyboardInterrupt",
          "evalue": "",
          "traceback": [
            "\u001b[0;31m---------------------------------------------------------------------------\u001b[0m",
            "\u001b[0;31mKeyboardInterrupt\u001b[0m                         Traceback (most recent call last)",
            "\u001b[0;32m<ipython-input-11-8789279225ed>\u001b[0m in \u001b[0;36m<cell line: 0>\u001b[0;34m()\u001b[0m\n\u001b[1;32m      4\u001b[0m \u001b[0mtweets\u001b[0m \u001b[0;34m=\u001b[0m \u001b[0;34m[\u001b[0m\u001b[0;34m]\u001b[0m\u001b[0;34m\u001b[0m\u001b[0;34m\u001b[0m\u001b[0m\n\u001b[1;32m      5\u001b[0m \u001b[0;34m\u001b[0m\u001b[0m\n\u001b[0;32m----> 6\u001b[0;31m for tweet in tweepy.Paginator(\n\u001b[0m\u001b[1;32m      7\u001b[0m     \u001b[0mclient\u001b[0m\u001b[0;34m.\u001b[0m\u001b[0msearch_recent_tweets\u001b[0m\u001b[0;34m,\u001b[0m\u001b[0;34m\u001b[0m\u001b[0;34m\u001b[0m\u001b[0m\n\u001b[1;32m      8\u001b[0m     \u001b[0mquery\u001b[0m\u001b[0;34m=\u001b[0m\u001b[0mquery\u001b[0m\u001b[0;34m,\u001b[0m\u001b[0;34m\u001b[0m\u001b[0;34m\u001b[0m\u001b[0m\n",
            "\u001b[0;32m/usr/local/lib/python3.11/dist-packages/tweepy/pagination.py\u001b[0m in \u001b[0;36mflatten\u001b[0;34m(self, limit)\u001b[0m\n\u001b[1;32m     65\u001b[0m \u001b[0;34m\u001b[0m\u001b[0m\n\u001b[1;32m     66\u001b[0m         \u001b[0mcount\u001b[0m \u001b[0;34m=\u001b[0m \u001b[0;36m0\u001b[0m\u001b[0;34m\u001b[0m\u001b[0;34m\u001b[0m\u001b[0m\n\u001b[0;32m---> 67\u001b[0;31m         for response in PaginationIterator(\n\u001b[0m\u001b[1;32m     68\u001b[0m             \u001b[0mself\u001b[0m\u001b[0;34m.\u001b[0m\u001b[0mmethod\u001b[0m\u001b[0;34m,\u001b[0m \u001b[0;34m*\u001b[0m\u001b[0mself\u001b[0m\u001b[0;34m.\u001b[0m\u001b[0margs\u001b[0m\u001b[0;34m,\u001b[0m \u001b[0;34m**\u001b[0m\u001b[0mself\u001b[0m\u001b[0;34m.\u001b[0m\u001b[0mkwargs\u001b[0m\u001b[0;34m\u001b[0m\u001b[0;34m\u001b[0m\u001b[0m\n\u001b[1;32m     69\u001b[0m         ):\n",
            "\u001b[0;32m/usr/local/lib/python3.11/dist-packages/tweepy/pagination.py\u001b[0m in \u001b[0;36m__next__\u001b[0;34m(self)\u001b[0m\n\u001b[1;32m    124\u001b[0m             \u001b[0mself\u001b[0m\u001b[0;34m.\u001b[0m\u001b[0mkwargs\u001b[0m\u001b[0;34m[\u001b[0m\u001b[0;34m\"pagination_token\"\u001b[0m\u001b[0;34m]\u001b[0m \u001b[0;34m=\u001b[0m \u001b[0mpagination_token\u001b[0m\u001b[0;34m\u001b[0m\u001b[0;34m\u001b[0m\u001b[0m\n\u001b[1;32m    125\u001b[0m \u001b[0;34m\u001b[0m\u001b[0m\n\u001b[0;32m--> 126\u001b[0;31m         \u001b[0mresponse\u001b[0m \u001b[0;34m=\u001b[0m \u001b[0mself\u001b[0m\u001b[0;34m.\u001b[0m\u001b[0mmethod\u001b[0m\u001b[0;34m(\u001b[0m\u001b[0;34m*\u001b[0m\u001b[0mself\u001b[0m\u001b[0;34m.\u001b[0m\u001b[0margs\u001b[0m\u001b[0;34m,\u001b[0m \u001b[0;34m**\u001b[0m\u001b[0mself\u001b[0m\u001b[0;34m.\u001b[0m\u001b[0mkwargs\u001b[0m\u001b[0;34m)\u001b[0m\u001b[0;34m\u001b[0m\u001b[0;34m\u001b[0m\u001b[0m\n\u001b[0m\u001b[1;32m    127\u001b[0m \u001b[0;34m\u001b[0m\u001b[0m\n\u001b[1;32m    128\u001b[0m         \u001b[0;32mif\u001b[0m \u001b[0misinstance\u001b[0m\u001b[0;34m(\u001b[0m\u001b[0mresponse\u001b[0m\u001b[0;34m,\u001b[0m \u001b[0mResponse\u001b[0m\u001b[0;34m)\u001b[0m\u001b[0;34m:\u001b[0m\u001b[0;34m\u001b[0m\u001b[0;34m\u001b[0m\u001b[0m\n",
            "\u001b[0;32m/usr/local/lib/python3.11/dist-packages/tweepy/client.py\u001b[0m in \u001b[0;36msearch_recent_tweets\u001b[0;34m(self, query, user_auth, **params)\u001b[0m\n\u001b[1;32m   1268\u001b[0m         \"\"\"\n\u001b[1;32m   1269\u001b[0m         \u001b[0mparams\u001b[0m\u001b[0;34m[\u001b[0m\u001b[0;34m\"query\"\u001b[0m\u001b[0;34m]\u001b[0m \u001b[0;34m=\u001b[0m \u001b[0mquery\u001b[0m\u001b[0;34m\u001b[0m\u001b[0;34m\u001b[0m\u001b[0m\n\u001b[0;32m-> 1270\u001b[0;31m         return self._make_request(\n\u001b[0m\u001b[1;32m   1271\u001b[0m             \u001b[0;34m\"GET\"\u001b[0m\u001b[0;34m,\u001b[0m \u001b[0;34m\"/2/tweets/search/recent\"\u001b[0m\u001b[0;34m,\u001b[0m \u001b[0mparams\u001b[0m\u001b[0;34m=\u001b[0m\u001b[0mparams\u001b[0m\u001b[0;34m,\u001b[0m\u001b[0;34m\u001b[0m\u001b[0;34m\u001b[0m\u001b[0m\n\u001b[1;32m   1272\u001b[0m             endpoint_parameters=(\n",
            "\u001b[0;32m/usr/local/lib/python3.11/dist-packages/tweepy/client.py\u001b[0m in \u001b[0;36m_make_request\u001b[0;34m(self, method, route, params, endpoint_parameters, json, data_type, user_auth)\u001b[0m\n\u001b[1;32m    127\u001b[0m         \u001b[0mrequest_params\u001b[0m \u001b[0;34m=\u001b[0m \u001b[0mself\u001b[0m\u001b[0;34m.\u001b[0m\u001b[0m_process_params\u001b[0m\u001b[0;34m(\u001b[0m\u001b[0mparams\u001b[0m\u001b[0;34m,\u001b[0m \u001b[0mendpoint_parameters\u001b[0m\u001b[0;34m)\u001b[0m\u001b[0;34m\u001b[0m\u001b[0;34m\u001b[0m\u001b[0m\n\u001b[1;32m    128\u001b[0m \u001b[0;34m\u001b[0m\u001b[0m\n\u001b[0;32m--> 129\u001b[0;31m         response = self.request(method, route, params=request_params,\n\u001b[0m\u001b[1;32m    130\u001b[0m                                 json=json, user_auth=user_auth)\n\u001b[1;32m    131\u001b[0m \u001b[0;34m\u001b[0m\u001b[0m\n",
            "\u001b[0;32m/usr/local/lib/python3.11/dist-packages/tweepy/client.py\u001b[0m in \u001b[0;36mrequest\u001b[0;34m(self, method, route, params, json, user_auth)\u001b[0m\n\u001b[1;32m    110\u001b[0m                             \u001b[0;34mf\"Sleeping for {sleep_time} seconds.\"\u001b[0m\u001b[0;34m\u001b[0m\u001b[0;34m\u001b[0m\u001b[0m\n\u001b[1;32m    111\u001b[0m                         )\n\u001b[0;32m--> 112\u001b[0;31m                         \u001b[0mtime\u001b[0m\u001b[0;34m.\u001b[0m\u001b[0msleep\u001b[0m\u001b[0;34m(\u001b[0m\u001b[0msleep_time\u001b[0m\u001b[0;34m)\u001b[0m\u001b[0;34m\u001b[0m\u001b[0;34m\u001b[0m\u001b[0m\n\u001b[0m\u001b[1;32m    113\u001b[0m                     \u001b[0;32mreturn\u001b[0m \u001b[0mself\u001b[0m\u001b[0;34m.\u001b[0m\u001b[0mrequest\u001b[0m\u001b[0;34m(\u001b[0m\u001b[0mmethod\u001b[0m\u001b[0;34m,\u001b[0m \u001b[0mroute\u001b[0m\u001b[0;34m,\u001b[0m \u001b[0mparams\u001b[0m\u001b[0;34m,\u001b[0m \u001b[0mjson\u001b[0m\u001b[0;34m,\u001b[0m \u001b[0muser_auth\u001b[0m\u001b[0;34m)\u001b[0m\u001b[0;34m\u001b[0m\u001b[0;34m\u001b[0m\u001b[0m\n\u001b[1;32m    114\u001b[0m                 \u001b[0;32melse\u001b[0m\u001b[0;34m:\u001b[0m\u001b[0;34m\u001b[0m\u001b[0;34m\u001b[0m\u001b[0m\n",
            "\u001b[0;31mKeyboardInterrupt\u001b[0m: "
          ]
        }
      ]
    },
    {
      "cell_type": "code",
      "source": [],
      "metadata": {
        "id": "dPhz3Hkktzwk"
      },
      "execution_count": null,
      "outputs": []
    },
    {
      "cell_type": "markdown",
      "source": [
        "# Let try fix"
      ],
      "metadata": {
        "id": "_k4b1t1mz752"
      }
    },
    {
      "cell_type": "code",
      "source": [
        "!pip install ipywidgets"
      ],
      "metadata": {
        "collapsed": true,
        "id": "9RES97Xv0BIj"
      },
      "execution_count": null,
      "outputs": []
    },
    {
      "cell_type": "code",
      "source": [
        "import ipywidgets as widgets\n",
        "from IPython.display import display\n",
        "\n",
        "# Create text input for search keyword\n",
        "keyword_widget = widgets.Text(\n",
        "    value='ChatGPT',\n",
        "    placeholder='Type a keyword or hashtag',\n",
        "    description='Keyword:',\n",
        "    disabled=False\n",
        ")\n",
        "\n",
        "# Create slider or number input for tweet count\n",
        "tweet_count_widget = widgets.IntSlider(\n",
        "    value=100,\n",
        "    min=10,\n",
        "    max=1000,\n",
        "    step=10,\n",
        "    description='Num Tweets:',\n",
        "    disabled=False\n",
        ")\n",
        "\n",
        "display(keyword_widget)\n",
        "display(tweet_count_widget)"
      ],
      "metadata": {
        "id": "K6AqXljj0FOj"
      },
      "execution_count": null,
      "outputs": []
    },
    {
      "cell_type": "code",
      "source": [
        "query = f\"{keyword_widget.value} lang:en -is:retweet\"\n",
        "num_tweets = tweet_count_widget.value\n",
        "\n",
        "tweets_data = []\n",
        "for tweet in tweepy.Paginator(\n",
        "    client.search_recent_tweets,\n",
        "    query=query,\n",
        "    max_results=100,\n",
        "    tweet_fields=[\"created_at\", \"public_metrics\", \"author_id\"],\n",
        "    user_fields=[\"username\"],\n",
        "    expansions=[\"author_id\"],\n",
        "    limit=max(1, (num_tweets // 100))\n",
        ").flatten(limit=num_tweets):\n",
        "    tweets_data.append({\n",
        "        \"text\": tweet.text,\n",
        "        \"created_at\": tweet.created_at,\n",
        "        \"likes\": tweet.public_metrics[\"like_count\"],\n",
        "        \"retweets\": tweet.public_metrics[\"retweet_count\"],\n",
        "        \"author_id\": tweet.author_id\n",
        "    })\n",
        "\n",
        "print(f\"Fetched {len(tweets_data)} tweets.\")"
      ],
      "metadata": {
        "colab": {
          "base_uri": "https://localhost:8080/"
        },
        "id": "PCw4Qq4q0I4F",
        "outputId": "a5fbcabb-96f8-43e8-89c0-33f310aa3743"
      },
      "execution_count": null,
      "outputs": [
        {
          "output_type": "stream",
          "name": "stderr",
          "text": [
            "WARNING:tweepy.client:Rate limit exceeded. Sleeping for 815 seconds.\n"
          ]
        }
      ]
    },
    {
      "cell_type": "code",
      "source": [],
      "metadata": {
        "id": "HRUML4Lr0ORv"
      },
      "execution_count": null,
      "outputs": []
    }
  ]
}